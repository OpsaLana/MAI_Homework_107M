{
 "cells": [
  {
   "cell_type": "code",
   "execution_count": 3,
   "id": "32737054",
   "metadata": {},
   "outputs": [
    {
     "data": {
      "text/plain": [
       "60.0"
      ]
     },
     "execution_count": 3,
     "metadata": {},
     "output_type": "execute_result"
    }
   ],
   "source": [
    "#Домашнее задание. Вероятности\n",
    "#Когон Светлана, группа М1О-107М-21\n",
    "#1. Один самолет вылетел из Москвы, и должен совершить посадку в 5 городах. \n",
    "# Необходимо узнать, количество городов, в котрых может приземлиться в первый, второй, третий город.\n",
    "# предполагаю, что имелось в виду \"количество способов\", а не количество городов. \n",
    "# И тогда это количество размещений из 5 по 3: 5!/(5-3)!=60\n",
    "n=5 # Общее количество городов\n",
    "k=3 # Количество переставляемых городов\n",
    "def factorial(x):\n",
    "    if x == 1: return 1\n",
    "    else: return x * factorial(x-1)\n",
    "    \n",
    "factorial(n)/factorial(n-k)"
   ]
  },
  {
   "cell_type": "code",
   "execution_count": 4,
   "id": "23f0c057",
   "metadata": {},
   "outputs": [],
   "source": [
    "#1. Осьминог Пауль 16 раз пробовал угадать победителя футбольного матча. 14 раз он угадал правильно, 2 раза ошибся. \n",
    "# Проверьте гипотезу H0: Пауль выбирает победителя футбольного матча случайно. Сделайте вывод. (сложная задача)"
   ]
  },
  {
   "cell_type": "code",
   "execution_count": 14,
   "id": "efdc5559",
   "metadata": {},
   "outputs": [
    {
     "name": "stdout",
     "output_type": "stream",
     "text": [
      "[2, 2, 1, 1, 2, 2, 2, 1, 2, 2, 1, 1, 2, 1, 2, 1]\n",
      "0.4375\n"
     ]
    }
   ],
   "source": [
    "# Определим, что случайно - это, грубо, подбрасывая монетку. Если выпадает первая из двух сторон монетки, то угадал (вторая - ошибся)\n",
    "import random\n",
    "\n",
    "def monetka(n):\n",
    "    \"\"\"\n",
    "    :param n: Количество подбрасываний монетки\n",
    "    :return:  Список случайных подбрасываний монетки\n",
    "    \"\"\"\n",
    "    data = []\n",
    "    while len(data) <n:\n",
    "        data.append(random.randint(1,2))\n",
    "    return data\n",
    "n=16\n",
    "mon_data = monetka(n)\n",
    "print(mon_data)\n",
    "\n",
    "# частота выпадений первой грани при этом равна:\n",
    "mon_data.count(1)\n",
    "\n",
    "# соответственно, вероятность выпадения первой стороны монетки при этом:\n",
    "#  Частота выпадания первой стороны/Количество подбрасываний\n",
    "pr=mon_data.count(1)/n\n",
    "print(pr)\n",
    "\n",
    "# а вероятность Пауля 14/16=0,875"
   ]
  },
  {
   "cell_type": "code",
   "execution_count": null,
   "id": "102aeaa0",
   "metadata": {},
   "outputs": [],
   "source": [
    "# ну и тут как бы непонятно, что подразумевается под \"Сделайте вывод\". Вероятность Пауля явно выше нашего выбрасывания монетки,\n",
    "# следовательно, гипотеза H0, скорее всего, неверна."
   ]
  }
 ],
 "metadata": {
  "kernelspec": {
   "display_name": "Python 3 (ipykernel)",
   "language": "python",
   "name": "python3"
  },
  "language_info": {
   "codemirror_mode": {
    "name": "ipython",
    "version": 3
   },
   "file_extension": ".py",
   "mimetype": "text/x-python",
   "name": "python",
   "nbconvert_exporter": "python",
   "pygments_lexer": "ipython3",
   "version": "3.9.7"
  }
 },
 "nbformat": 4,
 "nbformat_minor": 5
}
