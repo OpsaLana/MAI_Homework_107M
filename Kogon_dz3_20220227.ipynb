{
 "cells": [
  {
   "cell_type": "code",
   "execution_count": null,
   "id": "53c21a07",
   "metadata": {},
   "outputs": [],
   "source": [
    "#Самостоятельное задание #3\n",
    "#Когон Светлана, группа М1О-107М-21"
   ]
  },
  {
   "cell_type": "code",
   "execution_count": 1,
   "id": "dffa1e71",
   "metadata": {},
   "outputs": [
    {
     "name": "stdout",
     "output_type": "stream",
     "text": [
      "25\n"
     ]
    }
   ],
   "source": [
    "# Задание 1\n",
    "# Допишите функцию, которая принимает массив из 10 чисел и возвращает их сумму.\n",
    "a=[1,2,2,1,1,3,1,3,1,10]\n",
    "i=0\n",
    "Sum=0\n",
    "while i<=9:\n",
    "    Sum=Sum+a[i]\n",
    "    i +=1\n",
    "print (Sum)"
   ]
  },
  {
   "cell_type": "code",
   "execution_count": 134,
   "id": "d68bf95e",
   "metadata": {},
   "outputs": [
    {
     "data": {
      "text/plain": [
       "3"
      ]
     },
     "execution_count": 134,
     "metadata": {},
     "output_type": "execute_result"
    }
   ],
   "source": [
    "# Задание 2\n",
    "# Допишите функцию, которая принимает массив чисел и возвращает количество чисел равных нулю.\n",
    "a=[1,0,5,5,-5,0,7,8,0,10]\n",
    "a.count(0)"
   ]
  },
  {
   "cell_type": "code",
   "execution_count": 8,
   "id": "0811380b",
   "metadata": {},
   "outputs": [
    {
     "name": "stdout",
     "output_type": "stream",
     "text": [
      "1\n",
      "12\n",
      "123\n",
      "1234\n",
      "12345\n",
      "123456\n",
      "1234567\n"
     ]
    }
   ],
   "source": [
    "#Задание 3\n",
    "# Напишите программу, в которой задается натуральное число n и выводится лестница из n ступенек, \n",
    "#i-я ступенька должна состоять из чисел от 1 до i без пробелов.\n",
    "\n",
    "n=7\n",
    "# задаем n ступенек.\n",
    "if n==0:\n",
    "    print('лестницу сделать могу, но копать долго придется')\n",
    "else:\n",
    "    m=1\n",
    "# не, n - много, возьмем m\n",
    "    while m<=n:\n",
    "        for i in range(1,m+1):\n",
    "            print(i,end='')\n",
    "        m+=1\n",
    "        print('')"
   ]
  },
  {
   "cell_type": "code",
   "execution_count": 6,
   "id": "d2351b7d",
   "metadata": {},
   "outputs": [],
   "source": [
    "#Задание 4\n",
    "#Напишите программу, в которой задается натуральное число n и выводится пирамида из n ступенек, \n",
    "#i-я ступень должна состоять из чисел от 1 до i и обратно без пробелов.."
   ]
  },
  {
   "cell_type": "code",
   "execution_count": 75,
   "id": "4ed1fd27",
   "metadata": {},
   "outputs": [
    {
     "name": "stdout",
     "output_type": "stream",
     "text": [
      "                     11                     \n",
      "                    1221                    \n",
      "                   123321                   \n",
      "                  12344321                  \n",
      "                 1234554321                 \n",
      "                123456654321                \n",
      "               12345677654321               \n",
      "              1234567887654321              \n",
      "             123456789987654321             \n",
      "           1234567891010987654321           \n",
      "         12345678910111110987654321         \n",
      "       123456789101112121110987654321       \n",
      "     1234567891011121313121110987654321     \n",
      "   12345678910111213141413121110987654321   \n",
      " 123456789101112131415151413121110987654321 \n"
     ]
    }
   ],
   "source": [
    "n=15 # задаем n ступенек пирамиды. \n",
    "bsm=0 # нужно вычислить основание пирамиды. Для n=1...9 это просто n*2, но если больше, то ой\n",
    "bsm_str=''\n",
    "while bsm <= n:\n",
    "    bsm_str+=str(bsm)\n",
    "    bsm+=1\n",
    "#print(len(bsm_str))\n",
    "i=1 # это текущая ступенька пирамиды.\n",
    "pyramid='' #    это итоговая пирамида\n",
    "pyramid_str=''#    это левая часть пирамиды\n",
    "pyramid_back_str=''#    это правая часть пирамиды\n",
    "while i<=n:\n",
    "    pyramid_str+=str(i)\n",
    "    pyramid_back_str=str(i)+pyramid_back_str\n",
    "    pyramid=pyramid_str+pyramid_back_str\n",
    "    print(pyramid.center(int(len(bsm_str)*2)))\n",
    "    i+=1"
   ]
  },
  {
   "cell_type": "code",
   "execution_count": null,
   "id": "eecf972d",
   "metadata": {},
   "outputs": [],
   "source": [
    "# Задание 5\n",
    "# Напишите программу, в которой задается натуральное число n и выводится ромб из n*2-1 ступенек,\n",
    "# i-я ступень должна состоять из чисел от 1 до i и обратно без пробелов."
   ]
  },
  {
   "cell_type": "code",
   "execution_count": 230,
   "id": "337f0508",
   "metadata": {},
   "outputs": [
    {
     "name": "stdout",
     "output_type": "stream",
     "text": [
      "                 11                 \n",
      "                1221                \n",
      "               123321               \n",
      "              12344321              \n",
      "             1234554321             \n",
      "            123456654321            \n",
      "           12345677654321           \n",
      "          1234567887654321          \n",
      "         123456789987654321         \n",
      "       1234567891010987654321       \n",
      "     12345678910111110987654321     \n",
      "   123456789101112121110987654321   \n",
      " 1234567891011121313121110987654321 \n",
      "   123456789101112121110987654321   \n",
      "     12345678910111110987654321     \n",
      "       1234567891010987654321       \n",
      "         123456789987654321         \n",
      "          1234567887654321          \n",
      "           12345677654321           \n",
      "            123456654321            \n",
      "             1234554321             \n",
      "              12344321              \n",
      "               123321               \n",
      "                1221                \n",
      "                 11                 \n",
      "                                    \n"
     ]
    }
   ],
   "source": [
    "n=7 # задаем натуральное число n \n",
    "m=n*2-1 # вычисляем число ступенек ромба \n",
    "bsm=0\n",
    "bsm_str=''\n",
    "while bsm <= m:\n",
    "    bsm_str+=str(bsm)\n",
    "    bsm+=1\n",
    "#print(len(bsm_str)-1)\n",
    "i=1 # это текущая ступенька пирамиды.\n",
    "pyramid='' #    это итоговая пирамида\n",
    "pyramid_str=''#    это левая часть пирамиды\n",
    "pyramid_back_str=''#    это правая часть пирамиды\n",
    "while i<=m:\n",
    "    pyramid_str+=str(i)\n",
    "    pyramid_back_str=str(i)+pyramid_back_str\n",
    "    pyramid=pyramid_str+pyramid_back_str\n",
    "    print(pyramid.center(int(len(bsm_str)*2)))\n",
    "    i+=1\n",
    "\n",
    "# нижнюю часть ромба раскручиваем вниз выкусыванием символов из середины, тоже в инете нашла про\n",
    "# \"срезы и конкатенацию\" - не знаю, что это за трава такая, но определенно работает\n",
    "i=len(bsm_str)-1\n",
    "while i>=1:\n",
    "    z=len(str(i)) #  и опять же можно без этого, если основание пирамиды <=9. Иначе количество символов надо учесть.\n",
    "#    print('left:', pyramid[:i-z],'right:',pyramid[i+z:]) \n",
    "# вот тут  при обрезании указанный символ до двоеточия не включается, а после двоеточия включается\n",
    "    pyramid=pyramid[:i-z]+pyramid[i+z:]\n",
    "    print(pyramid.center(int(len(bsm_str)*2)))\n",
    "    i-=z"
   ]
  },
  {
   "cell_type": "code",
   "execution_count": null,
   "id": "e8f791a7",
   "metadata": {},
   "outputs": [],
   "source": []
  }
 ],
 "metadata": {
  "kernelspec": {
   "display_name": "Python 3 (ipykernel)",
   "language": "python",
   "name": "python3"
  },
  "language_info": {
   "codemirror_mode": {
    "name": "ipython",
    "version": 3
   },
   "file_extension": ".py",
   "mimetype": "text/x-python",
   "name": "python",
   "nbconvert_exporter": "python",
   "pygments_lexer": "ipython3",
   "version": "3.8.12"
  }
 },
 "nbformat": 4,
 "nbformat_minor": 5
}
