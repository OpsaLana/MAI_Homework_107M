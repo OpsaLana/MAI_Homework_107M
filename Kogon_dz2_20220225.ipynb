{
 "cells": [
  {
   "cell_type": "code",
   "execution_count": 1,
   "id": "3e5308d4",
   "metadata": {},
   "outputs": [],
   "source": [
    "#Самостоятельная работа #2\n",
    "#Когон Светлана, группа М1О-107М-21"
   ]
  },
  {
   "cell_type": "code",
   "execution_count": 44,
   "id": "59124c16",
   "metadata": {},
   "outputs": [
    {
     "name": "stdout",
     "output_type": "stream",
     "text": [
      "3\n"
     ]
    }
   ],
   "source": [
    "#Задание 1\n",
    "#Допишите функцию, которая принимает 2 числа, сравнивает между собой и возвращает наименьшее.\n",
    "a=10\n",
    "b=3\n",
    "print (min(a,b))"
   ]
  },
  {
   "cell_type": "code",
   "execution_count": 3,
   "id": "3771e12d",
   "metadata": {},
   "outputs": [
    {
     "name": "stdout",
     "output_type": "stream",
     "text": [
      "2\n"
     ]
    }
   ],
   "source": [
    "#Задание 2\n",
    "#Допишите функцию, которая принимает 3 числа, сравнивает между собой и возвращает наименьшее.\n",
    "a=10\n",
    "b=2\n",
    "c=5\n",
    "print (min(a,b,c))"
   ]
  },
  {
   "cell_type": "code",
   "execution_count": 43,
   "id": "04a49abf",
   "metadata": {},
   "outputs": [
    {
     "name": "stdout",
     "output_type": "stream",
     "text": [
      "0\n",
      "2\n"
     ]
    }
   ],
   "source": [
    "#Задание 2\n",
    "#Допишите функцию, которая принимает 3 числа, сравнивает между собой и возвращает количество совпадающих чисел.\n",
    "#Соответственно, программа может возвращать одно из трех чисел: \n",
    "#3 - если совпадают все, 2 - если совпадают 2 числа, 0 - если все числа различны.\n",
    "a=1\n",
    "b=2\n",
    "c=-2\n",
    "d={a,b,c}\n",
    "if ((3-len(d))==0):\n",
    "       print (0)\n",
    "else:\n",
    "    print(3-len(d)+1)\n",
    "#а так будет работать без привязки к \"3\":\n",
    "a=2\n",
    "b=1\n",
    "c=1\n",
    "d=10\n",
    "if ((len(['a','b','c','d'])-len({a,b,c,d}))==0):\n",
    "    print (0)\n",
    "else:\n",
    "    print(len(['a','b','a3','d'])-len({a,b,c,d})+1)"
   ]
  },
  {
   "cell_type": "code",
   "execution_count": null,
   "id": "bd10a71a",
   "metadata": {},
   "outputs": [],
   "source": []
  }
 ],
 "metadata": {
  "kernelspec": {
   "display_name": "Python 3 (ipykernel)",
   "language": "python",
   "name": "python3"
  },
  "language_info": {
   "codemirror_mode": {
    "name": "ipython",
    "version": 3
   },
   "file_extension": ".py",
   "mimetype": "text/x-python",
   "name": "python",
   "nbconvert_exporter": "python",
   "pygments_lexer": "ipython3",
   "version": "3.8.12"
  }
 },
 "nbformat": 4,
 "nbformat_minor": 5
}
