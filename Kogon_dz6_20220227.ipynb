{
 "cells": [
  {
   "cell_type": "code",
   "execution_count": null,
   "id": "3700032d",
   "metadata": {},
   "outputs": [],
   "source": [
    "#Самостоятельное задание #6\n",
    "#Когон Светлана, группа М1О-107М-21"
   ]
  },
  {
   "cell_type": "code",
   "execution_count": null,
   "id": "45ea1740",
   "metadata": {},
   "outputs": [],
   "source": [
    "#Задание 1\n",
    "#Допишите функцию, которая принимает несколько параметров. \n",
    "#Первый параметр - словарь, второй параметр - один из ключей данного словаря. \n",
    "#Функция должна выводить значение этого ключа."
   ]
  },
  {
   "cell_type": "code",
   "execution_count": 7,
   "id": "e10fb3f8",
   "metadata": {},
   "outputs": [
    {
     "name": "stdout",
     "output_type": "stream",
     "text": [
      "значение ключа ключ3 : значение3\n"
     ]
    }
   ],
   "source": [
    "# и опять не очень поняла, что значит \"принимает несколько параметров\"\n",
    "MyDict={'ключ1':'значение1','ключ2':'значение2','ключ3':'значение3','ключ4':'значение4','ключ5':'значение5'}\n",
    "key='ключ3'\n",
    "print('значение ключа',key, ':', MyDict[key])"
   ]
  },
  {
   "cell_type": "code",
   "execution_count": null,
   "id": "1d3b3347",
   "metadata": {},
   "outputs": [],
   "source": []
  }
 ],
 "metadata": {
  "kernelspec": {
   "display_name": "Python 3 (ipykernel)",
   "language": "python",
   "name": "python3"
  },
  "language_info": {
   "codemirror_mode": {
    "name": "ipython",
    "version": 3
   },
   "file_extension": ".py",
   "mimetype": "text/x-python",
   "name": "python",
   "nbconvert_exporter": "python",
   "pygments_lexer": "ipython3",
   "version": "3.8.12"
  }
 },
 "nbformat": 4,
 "nbformat_minor": 5
}
