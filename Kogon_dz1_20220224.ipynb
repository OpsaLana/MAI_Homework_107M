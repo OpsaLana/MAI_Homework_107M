{
 "cells": [
  {
   "cell_type": "code",
   "execution_count": 12,
   "id": "7eea5518",
   "metadata": {},
   "outputs": [],
   "source": [
    "# Самостоятельное задание\n",
    "# Мы предлагаем вам потренироваться c логическими и побитовыми операторами.\n",
    "#Когон Светлана, группа М1О-107М-21"
   ]
  },
  {
   "cell_type": "code",
   "execution_count": 13,
   "id": "3b2434e1",
   "metadata": {},
   "outputs": [],
   "source": [
    "a = True\n",
    "b = False"
   ]
  },
  {
   "cell_type": "code",
   "execution_count": 16,
   "id": "94ace575",
   "metadata": {},
   "outputs": [
    {
     "name": "stdout",
     "output_type": "stream",
     "text": [
      "False\n"
     ]
    }
   ],
   "source": [
    "#1\n",
    "print (a and b)"
   ]
  },
  {
   "cell_type": "code",
   "execution_count": 15,
   "id": "adf6ff3a",
   "metadata": {},
   "outputs": [
    {
     "name": "stdout",
     "output_type": "stream",
     "text": [
      "False\n"
     ]
    }
   ],
   "source": [
    "#2\n",
    "print ((a and b) or b)"
   ]
  },
  {
   "cell_type": "code",
   "execution_count": 17,
   "id": "9c905990",
   "metadata": {},
   "outputs": [
    {
     "name": "stdout",
     "output_type": "stream",
     "text": [
      "True\n"
     ]
    }
   ],
   "source": [
    "#3\n",
    "print ((a and b) or not (a and b))"
   ]
  },
  {
   "cell_type": "code",
   "execution_count": 24,
   "id": "0f5b823b",
   "metadata": {},
   "outputs": [
    {
     "name": "stdout",
     "output_type": "stream",
     "text": [
      "False\n"
     ]
    }
   ],
   "source": [
    "#4\n",
    "print (a and b or not (a or b) or b)"
   ]
  },
  {
   "cell_type": "code",
   "execution_count": 25,
   "id": "8540b29d",
   "metadata": {},
   "outputs": [
    {
     "name": "stdout",
     "output_type": "stream",
     "text": [
      "False\n"
     ]
    }
   ],
   "source": [
    "#5\n",
    "print (b and b or not a and (a or b or a) or not (a or b))"
   ]
  },
  {
   "cell_type": "code",
   "execution_count": 33,
   "id": "5e52b692",
   "metadata": {},
   "outputs": [
    {
     "name": "stdout",
     "output_type": "stream",
     "text": [
      "4\n"
     ]
    }
   ],
   "source": [
    "#6 <<-Побитовый сдвиг влево. Значение левого операнда \"сдвигается\" влево на количество бит，указанных в правом операнде\n",
    "#то есть попросту добиваем 1 слева двумя нулями, получаем 100. 100 в десятичной - это 4\n",
    "\n",
    "print (1 << 2)"
   ]
  },
  {
   "cell_type": "code",
   "execution_count": 37,
   "id": "c9826149",
   "metadata": {},
   "outputs": [
    {
     "name": "stdout",
     "output_type": "stream",
     "text": [
      "1\n",
      "0\n"
     ]
    }
   ],
   "source": [
    "#7 & - Бинарный \"И\" оператор, копирует бит в результат только если бит присутствует в обоих операндах. print (1 & 0) - это 0\n",
    "# |Бинарный \"ИЛИ\" оператор копирует бит, если тот присутствует в хотя бы в одном операнде. 0 | 1 - это 1:\n",
    "print (1 & 0 | 1)\n",
    "#>> - Побитовый сдвиг вправо. Значение левого операнда \"сдвигается\" вправо на количество бит указанных в правом операнде\n",
    "# то есть нашу 1 добиваем слева нулем, должны по идее получить 1 но почему-то выходит 0. Тут не догоняю.\n",
    "print (1 & 0 | 1 >> 1)"
   ]
  },
  {
   "cell_type": "code",
   "execution_count": 38,
   "id": "257b8599",
   "metadata": {},
   "outputs": [
    {
     "name": "stdout",
     "output_type": "stream",
     "text": [
      "0\n",
      "1\n",
      "1\n"
     ]
    }
   ],
   "source": [
    "#8 \n",
    "print (1 & 0)\n",
    "print (1 & 0 | 1)\n",
    "# ну тут вроде все понятно, 1 добиваем слева нулём нулей, остается, как было, 1\n",
    "print (1 & 0 | 1 >> 0)"
   ]
  },
  {
   "cell_type": "code",
   "execution_count": 42,
   "id": "84e60b31",
   "metadata": {},
   "outputs": [
    {
     "name": "stdout",
     "output_type": "stream",
     "text": [
      "5\n",
      "7\n",
      "2\n",
      "2\n",
      "2\n"
     ]
    }
   ],
   "source": [
    "#9  Комментарий: \"0b101\" - запись числа \"5\" на языке Python в двоичном виде\n",
    "print (0b101)\n",
    "print (0b111)\n",
    "print (0b010)\n",
    "print (5 & 7^ 7 | 2)\n",
    "#5 & 7 (101&111) это 101; 101 ^ 111 это 010; 010 | 010 это 010. А 010 - это и есть два!\n",
    "print (0b101 & 0b111 ^ 0b111 | 0b010)"
   ]
  },
  {
   "cell_type": "code",
   "execution_count": null,
   "id": "6d001952",
   "metadata": {},
   "outputs": [],
   "source": []
  }
 ],
 "metadata": {
  "kernelspec": {
   "display_name": "Python 3 (ipykernel)",
   "language": "python",
   "name": "python3"
  },
  "language_info": {
   "codemirror_mode": {
    "name": "ipython",
    "version": 3
   },
   "file_extension": ".py",
   "mimetype": "text/x-python",
   "name": "python",
   "nbconvert_exporter": "python",
   "pygments_lexer": "ipython3",
   "version": "3.8.12"
  }
 },
 "nbformat": 4,
 "nbformat_minor": 5
}
