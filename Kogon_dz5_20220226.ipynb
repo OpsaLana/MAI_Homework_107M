{
 "cells": [
  {
   "cell_type": "code",
   "execution_count": null,
   "id": "5b2d5974",
   "metadata": {},
   "outputs": [],
   "source": [
    "#Самостоятельное задание #5\n",
    "#Когон Светлана, группа М1О-107М-21"
   ]
  },
  {
   "cell_type": "code",
   "execution_count": 18,
   "id": "8a7c90f6",
   "metadata": {},
   "outputs": [
    {
     "name": "stdout",
     "output_type": "stream",
     "text": [
      "['a0', 'c2', 'e4']\n"
     ]
    }
   ],
   "source": [
    "#Задание 1\n",
    "#Допишите функцию, которая принимает список, выбирает из него все элементы с четным индексом и возвращает их в виде списка.\n",
    "#(считаем, что 0 - четный индекс).\n",
    "list=['a0', 'b1', 'c2', 'd3', 'e4', 'f5']\n",
    "#print(list)\n",
    "list_even = []\n",
    "m=len(list)-1\n",
    "n = 0\n",
    "while n <= m:\n",
    "# цикл for не подходит, так как нам шаг нужен не 1, а 2\n",
    "# увеличиваем переменную на 2\n",
    "    list_even.append(list[n])\n",
    "    n += 2\n",
    "print(list_even)"
   ]
  },
  {
   "cell_type": "code",
   "execution_count": 71,
   "id": "fee516a7",
   "metadata": {},
   "outputs": [
    {
     "name": "stdout",
     "output_type": "stream",
     "text": [
      "['9', '4', '5']\n"
     ]
    }
   ],
   "source": [
    "#Задание 2\n",
    "#Допишите функцию, которая принимает список, выбирает из него все элементы, которые больше предыдущего \n",
    "#и возвращает их в виде списка.\n",
    "list=['7', '9', '11', '0d', '4', '5'] #не обязательно сравнивать числа, можно и буквы, лишь бы не смесь\n",
    "#list=[7, 9, 1, 11, 0, 4, 5]\n",
    "list_1 = []\n",
    "m=len(list)-1\n",
    "n=1\n",
    "for n in range(m):\n",
    "    if (list[int(n)]<list[int(n+1)]):\n",
    "        list_1.append(list[n+1])\n",
    "print(list_1)"
   ]
  },
  {
   "cell_type": "code",
   "execution_count": 82,
   "id": "99c1162a",
   "metadata": {},
   "outputs": [
    {
     "name": "stdout",
     "output_type": "stream",
     "text": [
      "первоначальная последовательность       : ['7', '1', 'a', '0', 'd4', 'ф']\n",
      "с поменянными максимальным и минимальным: ['7', '1', 'a', 'ф', 'd4', '0']\n"
     ]
    }
   ],
   "source": [
    "# Задание 3\n",
    "# Допишите функцию, которая принимает список, меняет местами наибольший и наименьший элементы и возвращает этот список.\n",
    "#где-то в инете нагуглила, что есть функции max и min, задача сильно упростилась\n",
    "#list=[7, 0, 1, 11, 4, 5]\n",
    "list=['7', '1', 'a', '0', 'd4', 'ф'] #не обязательно сравнивать числа, можно и буквы, лишь бы не смесь\n",
    "list_1 = list.copy()\n",
    "print('первоначальная последовательность       :', list)\n",
    "max_list=max(list)\n",
    "i_max=list.index(max_list)\n",
    "min_list=min(list)\n",
    "i_min=list.index(min_list)\n",
    "#ну если минимальных и/или максимальных элементов больше одного, беру первый попавшийся, звиняйте\n",
    "list_1.remove(min_list)\n",
    "list_1.insert(i_max,min_list)\n",
    "#remove(a) - удаляет первое найденное значение элемента в списке со значением a\n",
    "#    insert(i, a) - вставляет на i-ю позицию элемент a\n",
    "list_1.remove(max_list)\n",
    "list_1.insert(i_min,max_list)\n",
    "#ну и повторяем то же самое для максимального значения\n",
    "\n",
    "print('с поменянными максимальным и минимальным:', list_1)"
   ]
  },
  {
   "cell_type": "code",
   "execution_count": null,
   "id": "572a8e9c",
   "metadata": {},
   "outputs": [],
   "source": []
  }
 ],
 "metadata": {
  "kernelspec": {
   "display_name": "Python 3 (ipykernel)",
   "language": "python",
   "name": "python3"
  },
  "language_info": {
   "codemirror_mode": {
    "name": "ipython",
    "version": 3
   },
   "file_extension": ".py",
   "mimetype": "text/x-python",
   "name": "python",
   "nbconvert_exporter": "python",
   "pygments_lexer": "ipython3",
   "version": "3.8.12"
  }
 },
 "nbformat": 4,
 "nbformat_minor": 5
}
