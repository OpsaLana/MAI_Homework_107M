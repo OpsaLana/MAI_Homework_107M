{
 "cells": [
  {
   "cell_type": "code",
   "execution_count": null,
   "id": "f4c6e8ba",
   "metadata": {},
   "outputs": [],
   "source": [
    "# Самостоятельное задание #4\n",
    "#Когон Светлана, группа М1О-107М-21\n",
    "#Дана строка: Lambdadambda"
   ]
  },
  {
   "cell_type": "code",
   "execution_count": 141,
   "id": "92b7858d",
   "metadata": {},
   "outputs": [
    {
     "name": "stdout",
     "output_type": "stream",
     "text": [
      "m\n"
     ]
    }
   ],
   "source": [
    "#Вывести третий символ этой строки.\n",
    "n=3\n",
    "row = \"Lambdadambda\"\n",
    "n-=1\n",
    "print(row[n])"
   ]
  },
  {
   "cell_type": "code",
   "execution_count": 87,
   "id": "c48d4a12",
   "metadata": {},
   "outputs": [
    {
     "name": "stdout",
     "output_type": "stream",
     "text": [
      "d\n"
     ]
    }
   ],
   "source": [
    "#Вывести предпоследний символ этой строки\n",
    "row = \"Lambdadambda\"\n",
    "n=len(row)-2\n",
    "print(row[n])"
   ]
  },
  {
   "cell_type": "code",
   "execution_count": 91,
   "id": "fe882732",
   "metadata": {},
   "outputs": [
    {
     "name": "stdout",
     "output_type": "stream",
     "text": [
      "Lambd\n",
      "Lambd\n"
     ]
    }
   ],
   "source": [
    "#Вывести первые пять символов этой строки.\n",
    "row = \"Lambdadambda\"\n",
    "line = \"\"\n",
    "for n in range(5):\n",
    "# n это номер буквы. Мы добиваем массив line из пустого по одной букве из строки\n",
    "    line += row[int(n)] + \"\"\n",
    "print(line)\n",
    "\n",
    "# потом нашла, как проще\n",
    "print(row[0:5])"
   ]
  },
  {
   "cell_type": "code",
   "execution_count": 93,
   "id": "144194b7",
   "metadata": {},
   "outputs": [
    {
     "name": "stdout",
     "output_type": "stream",
     "text": [
      "Lambdadamb\n",
      "Lambdadamb\n"
     ]
    }
   ],
   "source": [
    "#Вывести строку, кроме последних двух символов.\n",
    "row = \"Lambdadambda\"\n",
    "line = \"\"\n",
    "m=len(row)-2\n",
    "# m это количество выводимых буковок - длина слова минус два\n",
    "for n in range(m):\n",
    "# n это номер буквы. Мы добиваем массив line из пустого по одной букве из строки\n",
    "    line += row[int(n)] + \"\"\n",
    "print(line)\n",
    "\n",
    "# потом нашла, как проще\n",
    "print(row[0:m])"
   ]
  },
  {
   "cell_type": "code",
   "execution_count": 98,
   "id": "0742c717",
   "metadata": {},
   "outputs": [
    {
     "name": "stdout",
     "output_type": "stream",
     "text": [
      "Lmddmd\n"
     ]
    }
   ],
   "source": [
    "#Вывести все символы с четными индексами (считайте, что 0 - четный индекс).\n",
    "row = \"Lambdadambda\"\n",
    "line = \"\"\n",
    "m=len(row)-1\n",
    "n = 0\n",
    "while n <= m:\n",
    "# цикл for не подходит, так как нам шаг нужен не 1, а 2\n",
    "# увеличиваем переменную на 2\n",
    "    line += row[n] + \"\"\n",
    "    n += 2\n",
    "print(line)"
   ]
  },
  {
   "cell_type": "code",
   "execution_count": 99,
   "id": "694425f3",
   "metadata": {},
   "outputs": [
    {
     "name": "stdout",
     "output_type": "stream",
     "text": [
      "abaaba\n"
     ]
    }
   ],
   "source": [
    "#Вывести все символы с нечетными индексами.\n",
    "row = \"Lambdadambda\"\n",
    "line = \"\"\n",
    "m=len(row)-1\n",
    "n = 1\n",
    "# всё тоже самое, что и в предыдущем, только нечинаем не с первого четного (0) индекса, а с первого нечетного (1)\n",
    "while n <= m:\n",
    "# цикл for не подходит, так как нам шаг нужен не 1, а 2\n",
    "# увеличиваем переменную на 2\n",
    "    line += row[n] + \"\"\n",
    "    n += 2\n",
    "print(line)"
   ]
  },
  {
   "cell_type": "code",
   "execution_count": 133,
   "id": "5771d7a7",
   "metadata": {},
   "outputs": [
    {
     "name": "stdout",
     "output_type": "stream",
     "text": [
      "adbmadadbmaL\n"
     ]
    }
   ],
   "source": [
    "#Вывести все символы в обратном порядке.\n",
    "row = \"Lambdadambda\"\n",
    "row_rev=list(row) #это я из строки пытаюсь сделать массив, чтобы применить метод reverse(), он разворачивает список\n",
    "row_rev.reverse()\n",
    "# print(row_rev) - если вывести так, будет ['a', 'd', 'b', 'm', 'a', 'd', 'a', 'd', 'b', 'm', 'a', 'L'],\n",
    "# поэтому теперь надо обратно как в строку преобразовать\n",
    "m=len(row_rev)\n",
    "# m это количество выводимых буковок\n",
    "n=0\n",
    "line = \"\"\n",
    "for n in range(m):\n",
    "# n это номер буквы. Мы добиваем массив line из пустого по одной букве из строки\n",
    "    line += row_rev[int(n)] + \"\"\n",
    "print(line)"
   ]
  },
  {
   "cell_type": "code",
   "execution_count": 139,
   "id": "f9a49070",
   "metadata": {},
   "outputs": [
    {
     "name": "stdout",
     "output_type": "stream",
     "text": [
      "abaaba\n"
     ]
    }
   ],
   "source": [
    "#Вывести все символы строки через один в обратном порядке, начиная с последнего.\n",
    "#делаю аналогично предыдущему, только цикл с шагом в 2\n",
    "# должно быть так: abaaba \n",
    "\n",
    "row = \"Lambdadambda\"\n",
    "row_rev=list(row)\n",
    "row_rev.reverse()\n",
    "m=len(row_rev)-1\n",
    "n=0\n",
    "line = \"\"\n",
    "while n <= m:\n",
    "    line += row_rev[int(n)] + \"\"\n",
    "    n += 2\n",
    "print(line)"
   ]
  },
  {
   "cell_type": "code",
   "execution_count": 140,
   "id": "3457478a",
   "metadata": {},
   "outputs": [
    {
     "name": "stdout",
     "output_type": "stream",
     "text": [
      "12\n"
     ]
    }
   ],
   "source": [
    "#Вывести длину данной строки.\n",
    "row = \"Lambdadambda\"\n",
    "m=len(row)\n",
    "print(m)"
   ]
  },
  {
   "cell_type": "code",
   "execution_count": null,
   "id": "8e16a9a8",
   "metadata": {},
   "outputs": [],
   "source": []
  }
 ],
 "metadata": {
  "kernelspec": {
   "display_name": "Python 3 (ipykernel)",
   "language": "python",
   "name": "python3"
  },
  "language_info": {
   "codemirror_mode": {
    "name": "ipython",
    "version": 3
   },
   "file_extension": ".py",
   "mimetype": "text/x-python",
   "name": "python",
   "nbconvert_exporter": "python",
   "pygments_lexer": "ipython3",
   "version": "3.8.12"
  }
 },
 "nbformat": 4,
 "nbformat_minor": 5
}
