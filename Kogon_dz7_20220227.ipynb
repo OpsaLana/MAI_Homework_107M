{
 "cells": [
  {
   "cell_type": "code",
   "execution_count": null,
   "id": "cfa7a809",
   "metadata": {},
   "outputs": [],
   "source": [
    "#Самостоятельное задание #7\n",
    "#Когон Светлана, группа М1О-107М-21"
   ]
  },
  {
   "cell_type": "code",
   "execution_count": null,
   "id": "9c6799db",
   "metadata": {},
   "outputs": [],
   "source": [
    "# Задание 1\n",
    "# Допишите функцию, которая принимает список чисел и, с помощью множеств, определяет количество различных чисел внутри списка."
   ]
  },
  {
   "cell_type": "code",
   "execution_count": 6,
   "id": "251bd045",
   "metadata": {},
   "outputs": [
    {
     "name": "stdout",
     "output_type": "stream",
     "text": [
      "Количество уникальных значений во множестве {'6', '1', '2', '0', '8', '9', '3', '7', '4', '5'} : 10\n"
     ]
    }
   ],
   "source": [
    "#MyMultitude = set('мнооооожествомоё1111') # да и не обязательно числа\n",
    "MyMultitude = set('1234567890987654')\n",
    "print('Количество уникальных значений во множестве',MyMultitude, ':', len(MyMultitude))"
   ]
  },
  {
   "cell_type": "code",
   "execution_count": null,
   "id": "a11bdbf6",
   "metadata": {},
   "outputs": [],
   "source": [
    "#Задание 2\n",
    "#Допишите функцию, которая принимает несколько списков чисел и, с помощью множеств, \n",
    "#определяет количество общих чисел из первого и второго списка."
   ]
  },
  {
   "cell_type": "code",
   "execution_count": 23,
   "id": "5673acb3",
   "metadata": {},
   "outputs": [
    {
     "name": "stdout",
     "output_type": "stream",
     "text": [
      "Количество общих значений из списков: 5  (вот эти: {'1', 'ё', '2', '3', '4'} )\n"
     ]
    }
   ],
   "source": [
    "MyMultitude1 = set('мнооооожествомоё12341')\n",
    "MyMultitude2 = set('1234567890987654ёё')\n",
    "print('Количество общих значений из списков:',len(MyMultitude1.intersection(MyMultitude2)),' (вот эти:',MyMultitude1.intersection(MyMultitude2),')')"
   ]
  },
  {
   "cell_type": "code",
   "execution_count": 1,
   "id": "b82285c7",
   "metadata": {},
   "outputs": [
    {
     "data": {
      "text/plain": [
       "'C:\\\\Users\\\\Svetlana\\\\Documents\\\\Ucheba\\\\МАИ\\\\Лекции\\\\MachineLearnig\\\\домашка'"
      ]
     },
     "execution_count": 1,
     "metadata": {},
     "output_type": "execute_result"
    }
   ],
   "source": [
    "pwd"
   ]
  },
  {
   "cell_type": "code",
   "execution_count": 2,
   "id": "3e59949e",
   "metadata": {},
   "outputs": [
    {
     "name": "stdout",
     "output_type": "stream",
     "text": [
      "Несколько рандомных строк для проверки статуса\n"
     ]
    }
   ],
   "source": [
    "print ('Несколько рандомных строк для проверки статуса')"
   ]
  },
  {
   "cell_type": "code",
   "execution_count": null,
   "id": "dec71493",
   "metadata": {},
   "outputs": [],
   "source": []
  }
 ],
 "metadata": {
  "kernelspec": {
   "display_name": "Python 3 (ipykernel)",
   "language": "python",
   "name": "python3"
  },
  "language_info": {
   "codemirror_mode": {
    "name": "ipython",
    "version": 3
   },
   "file_extension": ".py",
   "mimetype": "text/x-python",
   "name": "python",
   "nbconvert_exporter": "python",
   "pygments_lexer": "ipython3",
   "version": "3.8.12"
  }
 },
 "nbformat": 4,
 "nbformat_minor": 5
}
